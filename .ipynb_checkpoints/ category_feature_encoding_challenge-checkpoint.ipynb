{
 "cells": [
  {
   "cell_type": "markdown",
   "metadata": {},
   "source": [
    "# Kaggle Categorical Feature Encoding Challenge\n",
    "#### *Binary classification, with every feature a categorical*"
   ]
  },
  {
   "cell_type": "code",
   "execution_count": 3,
   "metadata": {},
   "outputs": [],
   "source": [
    "import pandas as pd\n",
    "import numpy as np\n",
    "from sklearn.model_selection import train_test_split\n",
    "from pandas.api.types import CategoricalDtype "
   ]
  },
  {
   "cell_type": "markdown",
   "metadata": {},
   "source": [
    "## Load data"
   ]
  },
  {
   "cell_type": "code",
   "execution_count": 4,
   "metadata": {},
   "outputs": [],
   "source": [
    "train_raw = pd.read_csv('train.csv')\n",
    "test = pd.read_csv('test.csv')"
   ]
  },
  {
   "cell_type": "markdown",
   "metadata": {},
   "source": [
    "## Combine Datasets during FE"
   ]
  },
  {
   "cell_type": "code",
   "execution_count": 5,
   "metadata": {
    "scrolled": true
   },
   "outputs": [],
   "source": [
    "train_raw = train_raw.drop(['target'], axis = 1)\n",
    "train = train_raw.append(test)"
   ]
  },
  {
   "cell_type": "markdown",
   "metadata": {},
   "source": [
    "## Feature Engineering"
   ]
  },
  {
   "cell_type": "markdown",
   "metadata": {},
   "source": [
    "#### Check unique values per feature between train and test sets"
   ]
  },
  {
   "cell_type": "code",
   "execution_count": 53,
   "metadata": {},
   "outputs": [
    {
     "name": "stdout",
     "output_type": "stream",
     "text": [
      "column: train unique values - test unique values\n",
      "id: 300000 --> 199999\n",
      "bin_0: 2 --> 2\n",
      "bin_1: 2 --> 2\n",
      "bin_2: 2 --> 2\n",
      "bin_3: 2 --> 2\n",
      "bin_4: 2 --> 2\n",
      "nom_0: 3 --> 3\n",
      "nom_1: 6 --> 6\n",
      "nom_2: 6 --> 6\n",
      "nom_3: 6 --> 6\n",
      "nom_4: 4 --> 4\n",
      "nom_5: 222 --> 222\n",
      "nom_6: 522 --> 522\n",
      "nom_7: 1220 --> 1219\n",
      "nom_8: 2215 --> 2214\n",
      "nom_9: 11981 --> 11839\n",
      "ord_0: 3 --> 3\n",
      "ord_1: 5 --> 5\n",
      "ord_2: 6 --> 6\n",
      "ord_3: 15 --> 15\n",
      "ord_4: 26 --> 26\n",
      "ord_5: 192 --> 192\n",
      "day: 7 --> 7\n",
      "month: 12 --> 12\n"
     ]
    }
   ],
   "source": [
    "print(\"column: train unique values - test unique values\")\n",
    "for column in train.columns:\n",
    "    print(column + \": \" + str(len(train[:300000][column].unique())) + \" --> \" + str(len(train[300001:][column].unique())))"
   ]
  },
  {
   "cell_type": "markdown",
   "metadata": {},
   "source": [
    "#### Label Encode to binary features"
   ]
  },
  {
   "cell_type": "code",
   "execution_count": 54,
   "metadata": {},
   "outputs": [],
   "source": [
    "mapping_bins34 = {'T' : 1, 'F' : 0, 'Y' : 1, 'N' : 0}\n",
    "\n",
    "train['bin_3'] = train['bin_3'].map(mapping_bins34)\n",
    "test['bin_3'] = test['bin_3'].map(mapping_bins34)\n",
    "\n",
    "train['bin_4'] = train['bin_4'].map(mapping_bins34)\n",
    "test['bin_4'] = test['bin_4'].map(mapping_bins34)"
   ]
  },
  {
   "cell_type": "markdown",
   "metadata": {},
   "source": [
    "#### One Hot Encoding to nominal features"
   ]
  },
  {
   "cell_type": "code",
   "execution_count": 55,
   "metadata": {},
   "outputs": [],
   "source": [
    "#One hot encode nominal features\n",
    "low_card_nom = train.columns[train.columns.str.startswith('nom')]\n",
    "\n",
    "join_train = pd.get_dummies(train[low_card_nom])\n",
    "join_test = pd.get_dummies(train[low_card_nom])\n",
    "train = train.drop(low_card_nom, axis = 1)\n",
    "train = train.join(join_train)\n",
    "test = test.drop(low_card_nom, axis = 1)\n",
    "test = test.join(join_train)"
   ]
  },
  {
   "cell_type": "markdown",
   "metadata": {},
   "source": [
    "#### Hashing for nominal features with high cardinality"
   ]
  },
  {
   "cell_type": "code",
   "execution_count": 40,
   "metadata": {},
   "outputs": [],
   "source": [
    "# from sklearn.feature_extraction import FeatureHasher"
   ]
  },
  {
   "cell_type": "code",
   "execution_count": 47,
   "metadata": {
    "scrolled": true
   },
   "outputs": [],
   "source": [
    "# high_card_nom = ['nom_5','nom_6','nom_7','nom_8','nom_9']\n",
    "\n",
    "# train_hash = train.copy()\n",
    "# for col in high_card_nom:\n",
    "#     train_hash[col]=train_hash[col].astype('str')\n",
    "# hashing=FeatureHasher(input_type='string')\n",
    "\n",
    "# train=hashing.transform(train_hash.values)"
   ]
  },
  {
   "cell_type": "markdown",
   "metadata": {},
   "source": [
    "#### Ordinal encoding for ordinal features with low cardinality"
   ]
  },
  {
   "cell_type": "code",
   "execution_count": 37,
   "metadata": {},
   "outputs": [
    {
     "name": "stdout",
     "output_type": "stream",
     "text": [
      "ord_1\n",
      "[4 2 0 1 3]\n",
      "ord_2\n",
      "['Cold' 'Hot' 'Lava Hot' 'Boiling Hot' 'Freezing' 'Warm']\n"
     ]
    }
   ],
   "source": [
    "for col in ['ord_1','ord_2']:\n",
    "    print(col)\n",
    "    print(train[col].unique())"
   ]
  },
  {
   "cell_type": "code",
   "execution_count": 28,
   "metadata": {},
   "outputs": [],
   "source": [
    "ord1_dic = {'Novice' : 0, 'Contributor' : 1, 'Expert' : 2, 'Master' : 3, 'Grandmaster' : 4}\n",
    "ord2_dic = {'Freezing' : 0, 'Cold' : 1, 'Warm' : 2, 'Hot' : 3, 'Boiling Hot' : 4, 'Lava Hot' : 5}\n",
    "\n",
    "train['ord_1'] = train['ord_1'].map(ord1_dic)\n",
    "train['ord_2'] = train['ord_2'].map(ord2_dic)"
   ]
  },
  {
   "cell_type": "markdown",
   "metadata": {},
   "source": [
    "#### For alphabetic ordinal features, sort then map to new values"
   ]
  },
  {
   "cell_type": "code",
   "execution_count": 24,
   "metadata": {},
   "outputs": [],
   "source": [
    "#sort ord_3 alphabetically then insert into dic then map new values\n",
    "ord3 = sorted(train['ord_3'].unique())\n",
    "ord3_dic = {}\n",
    "\n",
    "i=1\n",
    "for letter in ord3:\n",
    "    ord3_dic[letter] = i\n",
    "    i += 1\n",
    "    \n",
    "train['ord_3'] = train['ord_3'].map(ord3_dic)"
   ]
  },
  {
   "cell_type": "code",
   "execution_count": 40,
   "metadata": {},
   "outputs": [],
   "source": [
    "#sort ord_4 alphabetically then insert into dic then map new values\n",
    "ord4 = sorted(train['ord_4'].unique())\n",
    "ord4_dic = {}\n",
    "\n",
    "i=1\n",
    "for letter in ord4:\n",
    "    ord4_dic[letter] = i\n",
    "    i += 1\n",
    "    \n",
    "train['ord_4'] = train['ord_4'].map(ord4_dic)"
   ]
  },
  {
   "cell_type": "code",
   "execution_count": 41,
   "metadata": {},
   "outputs": [],
   "source": [
    "#sort ord_5 alphabetically then insert into dic then map new values\n",
    "ord5 = sorted(train['ord_5'].unique())\n",
    "ord5_dic = {}\n",
    "\n",
    "i=1\n",
    "for letter in ord5:\n",
    "    ord5_dic[letter] = i\n",
    "    i += 1\n",
    "    \n",
    "train['ord_5'] = train['ord_5'].map(ord5_dic)"
   ]
  },
  {
   "cell_type": "markdown",
   "metadata": {},
   "source": [
    "## Split to Train/Test"
   ]
  },
  {
   "cell_type": "code",
   "execution_count": 17,
   "metadata": {},
   "outputs": [],
   "source": [
    "train_x = train.drop(['target'], axis = 1)\n",
    "train_y = train['target']\n",
    "\n",
    "X_train,X_test,y_train,y_test = train_test_split(train_x,train_y,test_size=0.2)"
   ]
  }
 ],
 "metadata": {
  "kernelspec": {
   "display_name": "Python 3",
   "language": "python",
   "name": "python3"
  },
  "language_info": {
   "codemirror_mode": {
    "name": "ipython",
    "version": 3
   },
   "file_extension": ".py",
   "mimetype": "text/x-python",
   "name": "python",
   "nbconvert_exporter": "python",
   "pygments_lexer": "ipython3",
   "version": "3.7.3"
  }
 },
 "nbformat": 4,
 "nbformat_minor": 2
}
